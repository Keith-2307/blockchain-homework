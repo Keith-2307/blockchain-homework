{
 "cells": [
  {
   "cell_type": "code",
   "execution_count": 1,
   "id": "8cc91ce8-ac6c-4468-a1d8-7311265a308c",
   "metadata": {},
   "outputs": [],
   "source": [
    "#import Libraries\n",
    "import os\n",
    "from web3 import Web3\n",
    "from dotenv import load_dotenv\n",
    "from web3.middleware import geth_poa_middleware\n",
    "from eth_account import Account\n",
    "from pathlib import Path\n",
    "from getpass import getpass\n"
   ]
  },
  {
   "cell_type": "code",
   "execution_count": 2,
   "id": "65529295-4140-4729-83e9-dad7de35e2d1",
   "metadata": {},
   "outputs": [
    {
     "data": {
      "text/plain": [
       "True"
      ]
     },
     "execution_count": 2,
     "metadata": {},
     "output_type": "execute_result"
    }
   ],
   "source": [
    "#loading the dotenv file\n",
    "load_dotenv()"
   ]
  },
  {
   "cell_type": "markdown",
   "id": "d2169d8c-58f0-468e-b73e-f17ffdc17af2",
   "metadata": {},
   "source": [
    "## Send a test transaction:\n",
    "### Sample transaction: Transfer some Ethereum from Account_one to Account_two\n",
    "Account_one: node1\n",
    "\n",
    "Account_two: node2"
   ]
  },
  {
   "cell_type": "code",
   "execution_count": 3,
   "id": "75039a21-6f67-45bb-96ec-3321ccf214b6",
   "metadata": {},
   "outputs": [],
   "source": [
    "# Connection with blockchain\n",
    "w3 = Web3(Web3.HTTPProvider(\"http://127.0.0.1:8545\"))\n",
    "w3.middleware_onion.inject(geth_poa_middleware, layer=0)"
   ]
  },
  {
   "cell_type": "code",
   "execution_count": 4,
   "id": "9e61e8e6-38fb-4d17-b220-624c0eb1c62c",
   "metadata": {},
   "outputs": [
    {
     "name": "stdin",
     "output_type": "stream",
     "text": [
      "Enter keystore password:  ····\n"
     ]
    },
    {
     "name": "stdout",
     "output_type": "stream",
     "text": [
      "0x78f8306ef80dD7c73c17a541c3C776517A6432A0\n"
     ]
    }
   ],
   "source": [
    "# # Accessing private Keys: Account_one \n",
    "\n",
    "account_one = Account.from_key(os.getenv(\"PRIVATE_KEY\"))\n",
    "\n",
    "with open(\n",
    "    Path(\n",
    "        \"UTC--2021-09-21T18-31-39.573103500Z--78f8306ef80dd7c73c17a541c3c776517a6432a0\"\n",
    "    )\n",
    ") as keyfile:\n",
    "    encrypted_key = keyfile.read()\n",
    "    private_key = w3.eth.account.decrypt(\n",
    "        encrypted_key, getpass(\"Enter keystore password: \")\n",
    "    )\n",
    "    account_two = Account.from_key(private_key)\n",
    "\n",
    "print(account_two.address)"
   ]
  },
  {
   "cell_type": "markdown",
   "id": "b86a9c53-ddc4-4500-a388-79521d6c1530",
   "metadata": {},
   "source": [
    "## Helper function to create a given transaction:\n",
    "### Code a function to create new transactions using parameters"
   ]
  },
  {
   "cell_type": "code",
   "execution_count": 5,
   "id": "f09608aa-b421-4663-b14c-d3a209dc0dae",
   "metadata": {},
   "outputs": [],
   "source": [
    "# helper function:\n",
    "def create_raw_tx(account, recipient, amount):\n",
    "    gasEstimate = w3.eth.estimateGas(\n",
    "        {\"from\": account.address, \"to\": recipient.address, \"value\": amount}\n",
    "    )\n",
    "    return {\n",
    "        \"from\": account.address,\n",
    "        \"to\": recipient.address,\n",
    "        \"value\": amount,\n",
    "        \"gasPrice\": w3.eth.gasPrice,\n",
    "        \"gas\": gasEstimate,\n",
    "        \"nonce\": w3.eth.getTransactionCount(account.address),\n",
    "    }"
   ]
  },
  {
   "cell_type": "markdown",
   "id": "cf4af2f9-95fc-4870-9ca9-86a8a1f9f9f7",
   "metadata": {},
   "source": [
    "A helper function was coded to create a given transaction and these transactions were created using new parameters."
   ]
  },
  {
   "cell_type": "markdown",
   "id": "7d6ad3c4-e057-45e6-9272-7bc226290e09",
   "metadata": {},
   "source": [
    "## Helper function to proceed sending the transaction:\n",
    "### tx: Is the previous transaction we created in create_instance function.\n",
    "### signed_tx: Is the Hash of transaction.\n",
    "### result: Takes the raw signed transaction bites & sends it to the node you are connected to."
   ]
  },
  {
   "cell_type": "code",
   "execution_count": 6,
   "id": "4f8a5f6b-68ef-4580-b1d3-1df7c655be6b",
   "metadata": {},
   "outputs": [
    {
     "name": "stdout",
     "output_type": "stream",
     "text": [
      "0x246C401561ECd83F5f5022798f7D6Fc23C447127\n",
      "0x78f8306ef80dD7c73c17a541c3C776517A6432A0\n"
     ]
    }
   ],
   "source": [
    "# Helper function and Print the address for accounts one and two.\n",
    "\n",
    "def send_tx(account, recipient, amount):\n",
    "    tx = create_raw_tx(account, recipient, amount)\n",
    "    signed_tx = account.sign_transaction(tx)\n",
    "    result = w3.eth.sendRawTransaction(signed_tx.rawTransaction)\n",
    "    print(result.hex())\n",
    "    return result.hex()\n",
    "print(account_one.address)\n",
    "print(account_two.address)\n",
    "\n"
   ]
  },
  {
   "cell_type": "markdown",
   "id": "991ea22d-e7cb-4f2e-a39d-3163ed037880",
   "metadata": {},
   "source": [
    "The helper function was created to show the process by which a transaction is deployed to transfer the cryptocurrency from the sender (owner of Account_one) to the recipient (owner of Account_two). The amount which was transfered has also stated in the function and as customary forms part of the Hash. "
   ]
  },
  {
   "cell_type": "code",
   "execution_count": 8,
   "id": "089db361-c8b4-4172-9c69-05e16fb5d21a",
   "metadata": {},
   "outputs": [],
   "source": [
    "# Complete Transaction by sending a sum of ETHEREUM from Account_one to Account_two\n",
    "send_tx(account_one,account_two,1_000_000_000_000_000_000)"
   ]
  },
  {
   "cell_type": "code",
   "execution_count": null,
   "id": "dda45aa2-44bb-41c0-af6a-e801537d6931",
   "metadata": {},
   "outputs": [],
   "source": []
  }
 ],
 "metadata": {
  "kernelspec": {
   "display_name": "Python 3",
   "language": "python",
   "name": "python3"
  },
  "language_info": {
   "codemirror_mode": {
    "name": "ipython",
    "version": 3
   },
   "file_extension": ".py",
   "mimetype": "text/x-python",
   "name": "python",
   "nbconvert_exporter": "python",
   "pygments_lexer": "ipython3",
   "version": "3.7.10"
  }
 },
 "nbformat": 4,
 "nbformat_minor": 5
}
